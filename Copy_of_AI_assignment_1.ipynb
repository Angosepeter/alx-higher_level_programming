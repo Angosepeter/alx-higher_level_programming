{
  "cells": [
    {
      "cell_type": "markdown",
      "metadata": {
        "id": "view-in-github",
        "colab_type": "text"
      },
      "source": [
        "<a href=\"https://colab.research.google.com/github/Angosepeter/alx-higher_level_programming/blob/master/Copy_of_AI_assignment_1.ipynb\" target=\"_parent\"><img src=\"https://colab.research.google.com/assets/colab-badge.svg\" alt=\"Open In Colab\"/></a>"
      ]
    },
    {
      "cell_type": "markdown",
      "metadata": {
        "id": "r7KIJbpFjOJ5"
      },
      "source": [
        "# Artificial Intelligence\n",
        "# Assignment #1\n"
      ]
    },
    {
      "cell_type": "markdown",
      "metadata": {
        "id": "QjqdYWdwjOJ2"
      },
      "source": [
        "##Paper instructions\n",
        "\n",
        "Please do not hesitate to contact me for any clarifications. This is for an intro to AI class. The github link to the repository for the book is this: https://github.com/aimacode/aima-python/blob/master/search.py\n",
        "\n",
        "##The instructions for the assignment:\n",
        "\n",
        "In this part of the programming assignment, your task is to implement different search algorithms and use them in solving maze problems. More concretely, you will program an agent to find a path through the maze and reach the exit. You can consult and base your code on some Python implementations, Links to an external site. but cite all your sources.\n",
        "\n",
        "Your program will solve the problem of finding the shortest path given an initial start state and one goal state. The maze layout will be provided as a simple text file, in which '%' means obstacles, 'S' represents the start position, and 'G' is the goal location. See the mazes files for an illustration. Maze1.txt Download Maze1.txtMaze2.txt Download Maze2.txtMaze3.txtDownload Maze3.txt\n",
        "\n",
        "The agent can move in one of four directions North, West, South, or East.\n",
        "\n",
        "You should design the state representation, transition model, and goal test necessary to solve the problem. Then implement any two of the following search algorithms:\n",
        "\n",
        "Depth-first search\n",
        "A* search\n",
        "\n",
        "Your program should run with Python 3.8. Your code can only import extra modules if they are part of the standard Python library. You should upload your source code (.py) along with this homework. For A*, you should implement the Manhattan distance from the current position to the goal as the heuristic function for A* search and best first.\n",
        "\n",
        "For each maze, your program should output a solution (this can be shown in the command line using \"x\" to denote the path), the solution cost, and the number of nodes expanded in your search.\n",
        "\n",
        "Your program should run as follows:\n",
        "\n",
        "python search.py –method astar -heuristic manhattan maze.txt\n",
        "\n",
        "Where astar is the name of the method, which can be depth-first, greedy, iterative, or astar, manhattan is the name of the heuristic that can be manhattan or none, and maze.txt is the input file. The three mazes are provided for you to test your program, we may test others.\n",
        "\n",
        "-Take a screenshot of the output of your program for each of the search algorithms for Maze1.txt Download Maze1.txt\n",
        "\n",
        "-Write a program to compare the performance of two search strategies you choose for Maze2.txt Download Maze2.txt.\n",
        "\n",
        "\n",
        "This is the link to the book: https://fiudit-my.sharepoint.com/:b:/r/personal/aloiz002_fiu_edu/Documents/Russell%20%26%20Norvig%20(2021)%20Artificial%20Intelligence_%20A%20Modern%20Approach%20(Global%20Edition).pdf?csf=1&web=1&e=nPF7mq\n",
        "Comments from Customer\n",
        "This task should be completed with well-commented code. Please comment all methods and functions.\n"
      ]
    },
    {
      "cell_type": "markdown",
      "metadata": {
        "id": "p42TzSZKjOJ9"
      },
      "source": [
        "## The maze\n",
        "\n",
        "A `List of Lists` is used to represent the maze(maze1.txt). Cells marked as '%' are obstacles ,'s'  start position and 'G' goal location."
      ]
    },
    {
      "cell_type": "code",
      "source": [
        "maze = [\n",
        "    \"%%%%%%%%%%%%%%%%%%%%%%%%%%%%%%%%%%%%%%%%%%%%%%%%%%%%%%%%%%%%%\",\n",
        "    \"%     %       %             %         %     %           %   %\",\n",
        "    \"%%% %%% %%%%%   %%%%% %%%%% %%% %%%%%%% % %%% %%%%%%%%%%% %%%\",\n",
        "    \"%   %   %     %   % %   % %   %         %          % % %    %\",\n",
        "    \"% %%% %%% %%% %%% % %%% % %%% % %%%%%% %%%%% %%%%% % % %%%% %\",\n",
        "    \"% %   % %   % %   %   % % % % %     %        %   % % %      %\",\n",
        "    \"%   %%% % % % % % % % %%% % % % %%% % %%%% % %%% % % %% % % %\",\n",
        "    \"% %   %   % %   %   % %   % %     % % %  % %     % %  %%% % %\",\n",
        "    \"% %%%%%%% % % %%% %%% %%%   %%% %%% % % %% %%%%% %%%% % % % %\",\n",
        "    \"%   %   % %       % % %   % % %  %  % %  %    %     %   % % %\",\n",
        "    \"% % %%% % %%%%%%%%% % % %%% % %  % %% %% % %%%%%%%%%%% %%%% %\",\n",
        "    \"% %   % %   %       %%% %     %  %    %  %      %           %\",\n",
        "    \"% % %%% %%%%% %%%%%   % %%%%%%%% %%% %%% % %% %%% %%%%%%% % %\",\n",
        "    \"% %   %       %     %   %        %     % %  %   %     %   % %\",\n",
        "    \"% %%%%%%% %%%%% %%%%% % %%%%% %%%%%%%%%% % %%%%%% %%% %%% % %\",\n",
        "    \"% % %     %     %   % %             %    %    %   %     % % %\",\n",
        "    \"%   %%% %%% %%%%%%% %%%%% %%%%%%% %%% %% %%%  % %%% %%% %%% %\",\n",
        "    \"% %   %   %       % %     %            %   %    %     %   % %\",\n",
        "    \"% %%%%% % %%%%%%% %%%%%%% %%%%%%%% %%% % %%%%%% % % %%%%% % %\",\n",
        "    \"%S%     %   %     %       %   %    %   %        % % %   % % %\",\n",
        "    \"%%%%%% %% % % %%%%% %%%%% %%% % %%%% %%%%%%%%%%%%%%%% %%% % %\",\n",
        "    \"%G        % %           %     %           %           %     %\",\n",
        "    \"%%%%%%%%%%%%%%%%%%%%%%%%%%%%%%%%%%%%%%%%%%%%%%%%%%%%%%%%%%%%%\"\n",
        "]"
      ],
      "metadata": {
        "id": "vu47_MWlrex8"
      },
      "execution_count": null,
      "outputs": []
    },
    {
      "cell_type": "markdown",
      "source": [
        "## agent\n",
        "Our agent 'S' for this case starts at the bottom left and can either north,south, East,and west looking for the 'G' in the maze."
      ],
      "metadata": {
        "id": "oy2sFV4Q0dws"
      }
    },
    {
      "cell_type": "code",
      "source": [
        "MOVES = [(1, 0), (-1, 0), (0, 1), (0, -1)]"
      ],
      "metadata": {
        "id": "_WX2pDi5QTc7"
      },
      "execution_count": null,
      "outputs": []
    },
    {
      "cell_type": "code",
      "source": [
        "start = (len(maze)-1, 0)"
      ],
      "metadata": {
        "id": "QX7l9FXb0Z79"
      },
      "execution_count": null,
      "outputs": []
    },
    {
      "cell_type": "code",
      "source": [
        "goal = (0, len(maze)-1)"
      ],
      "metadata": {
        "id": "tEn1eIp6r7qy"
      },
      "execution_count": null,
      "outputs": []
    },
    {
      "cell_type": "code",
      "source": [
        "# Updates the maze with this information\n",
        "maze[start[0]][start[1]] = 'S'\n",
        "maze[goal[0]][goal[1]] = 'G'\n"
      ],
      "metadata": {
        "id": "3SERnhffsIOp"
      },
      "execution_count": null,
      "outputs": []
    },
    {
      "cell_type": "markdown",
      "source": [
        "## Search\n",
        "\n",
        "\n",
        "A general search pseudocode is as follows:\n",
        "\n",
        "```\n",
        "search:\n",
        "    Initialize frontier (and add start node)\n",
        "    Initialize explored (and add start node)\n",
        "    \n",
        "    while frontier is not empy:\n",
        "        \n",
        "        node <- remove a node from frontier\n",
        "        add node to explored\n",
        "        \n",
        "        if node is goal, return\n",
        "        \n",
        "        for each child of node:\n",
        "            add child to frontier (based on some conditions)\n",
        "            \n",
        "            #The pseudocode outlines diffrent search algorithmns that can be used with A* strategy  to find the solution to the problem"
      ],
      "metadata": {
        "id": "GVo6OAqksf5a"
      }
    },
    {
      "cell_type": "markdown",
      "source": [
        "##maze_state\n",
        "state representation model with:\n",
        " #position: Represents the current position of the agent in the maze as a tuple (x, y)\n",
        " #path_cost: Represents the cost of reaching the current state from the start state\n",
        " #parent: Stores a reference to the parent state, which is used to reconstruct the path once the goal state is reached.\n",
        " #get_neighbors(): Computes the neighboring states that can be reached from the current state"
      ],
      "metadata": {
        "id": "KB6OEsG_Q1aI"
      }
    },
    {
      "cell_type": "code",
      "source": [
        "class MazeState:\n",
        "    def __init__(self, position, path_cost):\n",
        "        self.position = position  # Represents the current (x, y) coordinates in the maze\n",
        "        self.path_cost = path_cost  # Represents the cost to reach this state from the start\n",
        "        self.parent = None  # Reference to the parent state for path reconstruction\n",
        "\n",
        "    def __eq__(self, other):\n",
        "        return self.position == other.position\n",
        "\n",
        "    def __hash__(self):\n",
        "        return hash(self.position)\n",
        "\n",
        "    def __str__(self):\n",
        "        return f\"Position: {self.position}, Cost: {self.path_cost}\"\n",
        "\n",
        "    def __lt__(self, other):\n",
        "        return self.path_cost < other.path_cost\n",
        "\n",
        "    def get_neighbors(self, maze):\n",
        "        neighbors = []\n",
        "        x, y = self.position\n",
        "\n",
        "        # Define possible movements (North, West, South, East)\n",
        "        movements = [(0, 1), (0, -1), (1, 0), (-1, 0)]\n",
        "\n",
        "        for dx, dy in movements:\n",
        "            nx, ny = x + dx, y + dy\n",
        "            neighbor = (nx, ny)\n",
        "\n",
        "            # Check if the neighbor is within bounds and not an obstacle\n",
        "            if 0 <= nx < len(maze) and 0 <= ny < len(maze[0]) and maze[nx][ny] != '%':\n",
        "                cost = self.path_cost + 1  # Assuming uniform cost for each step\n",
        "                neighbors.append(MazeState(neighbor, cost))\n",
        "\n",
        "        return neighbors\n"
      ],
      "metadata": {
        "id": "bm_4inegRrPT"
      },
      "execution_count": null,
      "outputs": []
    },
    {
      "cell_type": "markdown",
      "source": [
        "##Maze transition model\n",
        "maze: Represents the maze as a 2D grid. It is used to check whether a particular action is valid (e.g., whether the agent will hit an obstacle)\n",
        "\n",
        "apply_action: Takes a current state and an action (e.g., (1, 0) for moving North) as input and calculates the resulting state after applying the action"
      ],
      "metadata": {
        "id": "H2ZcqcXUTv3J"
      }
    },
    {
      "cell_type": "code",
      "source": [
        "class MazeTransitionModel:\n",
        "    def __init__(self, maze):\n",
        "        self.maze = maze  # The maze represented as a 2D grid\n",
        "\n",
        "    def apply_action(self, state, action):\n",
        "        x, y = state.position\n",
        "        dx, dy = action\n",
        "\n",
        "        new_x, new_y = x + dx, y + dy\n",
        "\n",
        "        # Check if the new position is valid and not an obstacle\n",
        "        if (\n",
        "            0 <= new_x < len(self.maze) and\n",
        "            0 <= new_y < len(self.maze[0]) and\n",
        "            self.maze[new_x][new_y] != '%'\n",
        "        ):\n",
        "            # Calculate the cost of the action (assuming uniform cost)\n",
        "            action_cost = 1\n",
        "\n",
        "            # Create a ne inw state representing the result of the action\n",
        "            new_state = MazeState((new_x, new_y), state.path_cost + action_cost)\n",
        "            new_state.parent = state  # Set the parent reference for path reconstruction\n",
        "\n",
        "            return new_state\n",
        "\n",
        "        # If the action is invalid (e.g., hitting an obstacle), return None\n",
        "        return None"
      ],
      "metadata": {
        "id": "Z5vlS6DUT3I_"
      },
      "execution_count": null,
      "outputs": []
    },
    {
      "cell_type": "markdown",
      "source": [
        "##is_goal_state\n",
        "The goal test  checks  whether the agent's current position matches the coordinates of the goal location in the maze."
      ],
      "metadata": {
        "id": "WcRn9-AAVP3b"
      }
    },
    {
      "cell_type": "code",
      "source": [
        "def is_goal_state(state, goal_position):\n",
        "    \"\"\"\n",
        "    Checks if the given state is a goal state by comparing its position with the goal position.\n",
        "\n",
        "    Args:\n",
        "        state (MazeState): The current state to be tested.\n",
        "        goal_position (tuple): The coordinates (x, y) of the goal position.\n",
        "\n",
        "    Returns:\n",
        "        bool: True if the state is a goal state, False otherwise.\n",
        "    \"\"\"\n",
        "    return state.position == goal_position\n"
      ],
      "metadata": {
        "id": "fJ3l6sB7VxTY"
      },
      "execution_count": null,
      "outputs": []
    },
    {
      "cell_type": "markdown",
      "metadata": {
        "id": "qL2pQZzFjOKG"
      },
      "source": [
        "<a id=\"is_obstacle\"></a>\n",
        "## is_obstacle\n",
        "\n",
        "This helper fuction checks if a cell is an obstacle\n",
        "\n",
        "* **arg1** cell str: the cell to check\n",
        "\n",
        "**returns**\n",
        "* **True** if the cell is an obstacle, **False** otherwise"
      ]
    },
    {
      "cell_type": "code",
      "execution_count": null,
      "metadata": {
        "id": "EkTxgDefjOKH"
      },
      "outputs": [],
      "source": [
        "def is_obstacle(cell):\n",
        "    if cell == '%':\n",
        "        return True\n",
        "    else:\n",
        "        return False"
      ]
    },
    {
      "cell_type": "code",
      "execution_count": null,
      "metadata": {
        "id": "_45CnKk2jOKH"
      },
      "outputs": [],
      "source": [
        "assert is_obstacle('%') == True\n",
        "assert is_obstacle(' ') == False\n",
        "assert is_obstacle('S') == False"
      ]
    },
    {
      "cell_type": "markdown",
      "metadata": {
        "id": "c0zzEaB-jOKH"
      },
      "source": [
        "<a id=\"is_within_bounds\"></a>\n",
        "## is_within_bounds\n",
        "\n",
        "This helper function checks if a point is within the bounds of the maze\n",
        "\n",
        "* **arg1** point Tuple[int, int]: the point to check\n",
        "* **arg2** rows int: the number of rows in the maze\n",
        "* **arg3** cols int: the number of columns in the maze\n",
        "\n",
        "**returns**\n",
        "* **True** if the point is within the bounds of the maze **False** otherwise"
      ]
    },
    {
      "cell_type": "code",
      "execution_count": null,
      "metadata": {
        "id": "AeUu9HcjjOKH"
      },
      "outputs": [],
      "source": [
        "def is_within_bounds(point, rows, cols):\n",
        "    row = point[0]\n",
        "    col = point[1]\n",
        "    if row < 0 or col < 0:\n",
        "        return False\n",
        "    if row >= rows or col >= cols:\n",
        "        return False\n",
        "    else:\n",
        "        return True"
      ]
    },
    {
      "cell_type": "code",
      "execution_count": null,
      "metadata": {
        "id": "HNJd4KQWjOKI"
      },
      "outputs": [],
      "source": [
        "assert is_within_bounds((0,0), 21, 21) == True\n",
        "assert is_within_bounds((0,0), 0, 21) == False\n",
        "assert is_within_bounds((0,0), 21, 0) == False"
      ]
    },
    {
      "cell_type": "markdown",
      "metadata": {
        "id": "9dNns645jOKI"
      },
      "source": [
        "<a id=\"get_neighbors\"></a>\n",
        "## get_neighbors\n",
        "\n",
        "This helper function returns the neighbors of a point in the maze where a neighbor is defined as a point that is north, south, east, or west of the point and is within the bounds of the maze\n",
        "\n",
        "* **arg1** point Tuple[int, int]: the point to check\n",
        "* **arg2** rows int: the number of rows in the maze\n",
        "* **arg3** cols int: the number of columns in the maze\n",
        "\n",
        "**returns**\n",
        "* **neighbors** List[Tuple[int, int]]: the neighbors of the point"
      ]
    },
    {
      "cell_type": "code",
      "execution_count": null,
      "metadata": {
        "id": "pHrETZZxjOKI"
      },
      "outputs": [],
      "source": [
        "def get_neighbors(point, rows, cols):\n",
        "    row = point[0]\n",
        "    col = point[1]\n",
        "    neighbors = []\n",
        "    if is_within_bounds((row-1, col), rows, cols):\n",
        "        neighbors.append((row-1, col))\n",
        "    if is_within_bounds((row+1, col), rows, cols):\n",
        "        neighbors.append((row+1, col))\n",
        "    if is_within_bounds((row, col-1), rows, cols):\n",
        "        neighbors.append((row, col-1))\n",
        "    if is_within_bounds((row, col+1), rows, cols):\n",
        "        neighbors.append((row, col+1))\n",
        "    return neighbors"
      ]
    },
    {
      "cell_type": "code",
      "execution_count": null,
      "metadata": {
        "id": "JHAfESUajOKI"
      },
      "outputs": [],
      "source": [
        "assert get_neighbors((0,0), 21, 21) == [(1,0), (0,1)]\n",
        "assert get_neighbors((0,0), 0, 21) == []\n",
        "assert get_neighbors((0,0), 21, 0) == []"
      ]
    },
    {
      "cell_type": "markdown",
      "metadata": {
        "id": "yFp507U_jOKJ"
      },
      "source": [
        "<a id=\"switch_symbols\"></a>\n",
        "## switch_symbols\n",
        "\n",
        "This helper function replaces appropriate cells using  and 'S', 'G', and '%' are not replaced.\n",
        "\n",
        "* **arg1** path Dict[Tuple[int, int], Tuple[int, int]]: the path from start to goal\n",
        "\n",
        "**returns**\n",
        "* **None**"
      ]
    },
    {
      "cell_type": "code",
      "execution_count": null,
      "metadata": {
        "id": "0m_3ctCujOKJ"
      },
      "outputs": [],
      "source": [
        "def switch_symbols(path):\n",
        "    for key in path:\n",
        "        maze[key[0]][key[1]] = ' '\n",
        "    current = goal\n",
        "    while current != start:\n",
        "        maze[current[0]][current[1]] = ' '\n",
        "        current = path[current]\n",
        "    maze[start[0]][start[1]] = 'S'\n",
        "    maze[goal[0]][goal[1]] = 'G'"
      ]
    },
    {
      "cell_type": "markdown",
      "metadata": {
        "id": "zil-JNZljOKK"
      },
      "source": [
        "## Problem #1\n",
        "\n",
        "\n",
        "Implement a depth-first search(DFS) function to help the agent\n",
        " find a path to goal.\n"
      ]
    },
    {
      "cell_type": "code",
      "execution_count": null,
      "metadata": {
        "id": "QiknosS4jOKL"
      },
      "outputs": [],
      "source": [
        "def is_obstacle(cell):\n",
        "    if cell == '%':\n",
        "        return True\n",
        "    else:\n",
        "        return False\n",
        "\n",
        "def is_within_bounds(point, rows, cols):\n",
        "    row = point[0]\n",
        "    col = point[1]\n",
        "    if row < 0 or col < 0:\n",
        "        return False\n",
        "    if row >= rows or col >= cols:\n",
        "        return False\n",
        "    else:\n",
        "        return True"
      ]
    },
    {
      "cell_type": "markdown",
      "metadata": {
        "id": "9F5lkJfejOKM"
      },
      "source": [
        "<a id=\"get_neighbors\"></a>\n",
        "## get_neighbors\n",
        "\n",
        "This helper function returns the neighbors of a point in the world where a neighbor is defined as a point that is up, down, left, or right of the point and is within the bounds of the world\n",
        "\n",
        "* **arg1** point Tuple[int, int]: the point to check\n",
        "* **arg2** rows int: the number of rows in the world\n",
        "* **arg3** cols int: the number of columns in the world\n",
        "\n",
        "**returns**\n",
        "* **neighbors** List[Tuple[int, int]]: the neighbors of the point"
      ]
    },
    {
      "cell_type": "code",
      "execution_count": null,
      "metadata": {
        "id": "K4UynLCKjOKM"
      },
      "outputs": [],
      "source": [
        "def get_neighbors(point, rows, cols):\n",
        "    row = point[0]\n",
        "    col = point[1]\n",
        "    neighbors = []\n",
        "    if is_within_bounds((row+1, col), rows, cols):\n",
        "        neighbors.append((row+1, col))\n",
        "    if is_within_bounds((row, col+1), rows, cols):\n",
        "        neighbors.append((row, col+1))\n",
        "    if is_within_bounds((row, col-1), rows, cols):\n",
        "        neighbors.append((row, col-1))\n",
        "    if is_within_bounds((row-1, col), rows, cols):\n",
        "        neighbors.append((row-1, col))\n",
        "    return neighbors"
      ]
    },
    {
      "cell_type": "markdown",
      "metadata": {
        "id": "W2GXUK26jOKM"
      },
      "source": [
        "<a id=\"depth_first_search\"></a>\n",
        "## depth_first_search\n",
        "\n",
        "Description of the function.\n",
        "* **world** List[List[str]]: the search area\n",
        "* **start** Tuple[int, int]: the starting location of the robot\n",
        "* **goal** Tuple[int, int]: the goal location in the search area\n",
        "* **moves** List[Tuple[int, int]]: the allowable moves in the search area\n",
        "\n",
        "\n",
        "**returns** None (but prints out a view of the world; see breadth_first_search function for details)."
      ]
    },
    {
      "cell_type": "code",
      "execution_count": null,
      "metadata": {
        "id": "4FGNVTYTjOKN"
      },
      "outputs": [],
      "source": [
        "def depth_first_search(maze, start, goal, moves):\n",
        "    frontier = [start]  # Stack to store nodes to explore\n",
        "    explored = []  # List to store explored nodes\n",
        "    path = {}  # Dictionary to store the path (child to parent)\n",
        "\n",
        "    while len(frontier) != 0:\n",
        "        node = frontier.pop()  # Get the current node from the stack\n",
        "        explored.append(node)  # Mark the current node as explored\n",
        "\n",
        "        if node == goal:\n",
        "            break  # Goal reached, exit the loop\n",
        "\n",
        "        for child in get_neighbors(node, len(maze), len(maze[0])):\n",
        "            # Check if the child is not explored, not in the frontier, and not an obstacle\n",
        "            if child not in explored and child not in frontier and not is_obstacle(maze[child[0]][child[1]]):\n",
        "                frontier.append(child)  # Add the child to the stack for exploration\n",
        "                path[child] = node  # Store the path information (child to parent)\n",
        "\n",
        "    switch_symbols(path)  # Function to switch symbols to represent the path\n",
        "\n",
        "    # Print the maze with the path\n",
        "    for row in maze:\n",
        "        print(\"\".join(row))\n"
      ]
    },
    {
      "cell_type": "markdown",
      "source": [
        "##sample usage\n",
        "depth_first_search for maze1.txt"
      ],
      "metadata": {
        "id": "dRvWjdvnndUj"
      }
    },
    {
      "cell_type": "code",
      "source": [
        "from collections import deque\n",
        "\n",
        "# Define possible movements (up, down, left, right)\n",
        "movements = [(1, 0), (-1, 0), (0, 1), (0, -1)]\n",
        "\n",
        "def breadth_first_search(maze, start, goal):\n",
        "    rows, cols = len(maze), len(maze[0])\n",
        "\n",
        "    # Initialize the queue with the start position and an empty path\n",
        "    queue = deque([(start, [])])\n",
        "\n",
        "    # Initialize a set to keep track of visited cells\n",
        "    visited = set()\n",
        "\n",
        "    while queue:\n",
        "        current, path = queue.popleft()\n",
        "        x, y = current\n",
        "\n",
        "        # Check if the current position is the goal\n",
        "        if current == goal:\n",
        "            return path + [current]\n",
        "\n",
        "        # Mark the current position as visited\n",
        "        visited.add(current)\n",
        "\n",
        "        # Explore neighbors\n",
        "        for dx, dy in movements:\n",
        "            nx, ny = x + dx, y + dy\n",
        "            neighbor = (nx, ny)\n",
        "\n",
        "            # Check if the neighbor is within bounds and not an obstacle\n",
        "            if 0 <= nx < rows and 0 <= ny < cols and maze[nx][ny] != '%' and neighbor not in visited:\n",
        "                # Add the neighbor to the queue with the updated path\n",
        "                queue.append((neighbor, path + [current]))\n",
        "\n",
        "    # If no path is found, return an empty list to indicate failure\n",
        "    return []\n",
        "\n",
        "# Example usage: for maze.txt\n",
        "if __name__ == \"__main__\":\n",
        "    #  maze is a list of strings where each string represents a row of the maze\n",
        "    maze = [\n",
        "    \"%%%%%%%%%%%%%%%%%%%%%%%%%%%%%%%%%%%%%%%%%%%%%%%%%%%%%%%%%%%%%\",\n",
        "    \"%     %       %             %         %     %           %   %\",\n",
        "    \"%%% %%% %%%%%   %%%%% %%%%% %%% %%%%%%% % %%% %%%%%%%%%%% %%%\",\n",
        "    \"%   %   %     %   % %   % %   %         %          % % %    %\",\n",
        "    \"% %%% %%% %%% %%% % %%% % %%% % %%%%%% %%%%% %%%%% % % %%%% %\",\n",
        "    \"% %   % %   % %   %   % % % % %     %        %   % % %      %\",\n",
        "    \"%   %%% % % % % % % % %%% % % % %%% % %%%% % %%% % % %% % % %\",\n",
        "    \"% %   %   % %   %   % %   % %     % % %  % %     % %  %%% % %\",\n",
        "    \"% %%%%%%% % % %%% %%% %%%   %%% %%% % % %% %%%%% %%%% % % % %\",\n",
        "    \"%   %   % %       % % %   % % %  %  % %  %    %     %   % % %\",\n",
        "    \"% % %%% % %%%%%%%%% % % %%% % %  % %% %% % %%%%%%%%%%% %%%% %\",\n",
        "    \"% %   % %   %       %%% %     %  %    %  %      %           %\",\n",
        "    \"% % %%% %%%%% %%%%%   % %%%%%%%% %%% %%% % %% %%% %%%%%%% % %\",\n",
        "    \"% %   %       %     %   %        %     % %  %   %     %   % %\",\n",
        "    \"% %%%%%%% %%%%% %%%%% % %%%%% %%%%%%%%%% % %%%%%% %%% %%% % %\",\n",
        "    \"% % %     %     %   % %             %    %    %   %     % % %\",\n",
        "    \"%   %%% %%% %%%%%%% %%%%% %%%%%%% %%% %% %%%  % %%% %%% %%% %\",\n",
        "    \"% %   %   %       % %     %            %   %    %     %   % %\",\n",
        "    \"% %%%%% % %%%%%%% %%%%%%% %%%%%%%% %%% % %%%%%% % % %%%%% % %\",\n",
        "    \"%S%     %   %     %       %   %    %   %        % % %   % % %\",\n",
        "    \"%%%%%% %% % % %%%%% %%%%% %%% % %%%% %%%%%%%%%%%%%%%% %%% % %\",\n",
        "    \"%G        % %           %     %           %           %     %\",\n",
        "    \"%%%%%%%%%%%%%%%%%%%%%%%%%%%%%%%%%%%%%%%%%%%%%%%%%%%%%%%%%%%%%\"\n",
        "]\n",
        "\n",
        "    start = (20, 1)  #  start \"S\" position\n",
        "    goal = (20, 80)   #  goal 'G' position\n",
        "\n",
        "    path = breadth_first_search(maze, start, goal)\n",
        "\n",
        "    if path:\n",
        "        # Print the path\n",
        "        for row in maze:\n",
        "            print(row)\n",
        "        print(\"\\nSolution Path:\")\n",
        "        for x, y in path:\n",
        "            maze[x] = maze[x][:y] + 'x' + maze[x][y+1:]\n",
        "            print(\"\".join(maze))\n",
        "    else:\n",
        "        print(\"No path found.\")\n"
      ],
      "metadata": {
        "colab": {
          "base_uri": "https://localhost:8080/"
        },
        "id": "JcI4I4-6iUgP",
        "outputId": "46eebf0e-0892-4709-be97-8a276ef86853"
      },
      "execution_count": null,
      "outputs": [
        {
          "output_type": "stream",
          "name": "stdout",
          "text": [
            "No path found.\n"
          ]
        }
      ]
    },
    {
      "cell_type": "markdown",
      "metadata": {
        "id": "lrRcM37FjOKO"
      },
      "source": [
        "## Problem #2\n",
        "\n",
        "\n",
        "Implement an A$^*$ search function to help the agent find the optimal path to goal. For this problem, when calculating the accumulated path cost assume that every step the agent takes costs 1 unit. Your choice of heuristic will determine whether the resulting path is optimal with respect to cost.   \n",
        "\n",
        "\n",
        "The output guidelines are similar  problem 1."
      ]
    },
    {
      "cell_type": "markdown",
      "metadata": {
        "id": "6cRTzHd3jOKP"
      },
      "source": [
        "<a id=\"heuristic_func\"></a>\n",
        "## heuristic_func\n",
        "\n",
        "This helper function returns the heuristic value for a given point and goal\n",
        "\n",
        "* **arg1** point Tuple[int, int]: the point to check\n",
        "* **arg2** goal Tuple[int, int]: the goal location in the search area\n",
        "\n",
        "**returns**\n",
        "\n",
        "* **heuristic** int: the heuristic value for the point"
      ]
    },
    {
      "cell_type": "code",
      "execution_count": null,
      "metadata": {
        "id": "nzYbgeeQjOKP"
      },
      "outputs": [],
      "source": [
        "def heuristic_func(point, goal):\n",
        "    return abs(point[0] - goal[0]) + abs(point[1] - goal[1])"
      ]
    },
    {
      "cell_type": "code",
      "execution_count": null,
      "metadata": {
        "id": "FN-2W2rdjOKP"
      },
      "outputs": [],
      "source": [
        "assert heuristic_func((0,0), (0,0)) == 0\n",
        "assert heuristic_func((0,0), (1,1)) == 2\n",
        "assert heuristic_func((0,0), (2,2)) == 4"
      ]
    },
    {
      "cell_type": "markdown",
      "metadata": {
        "id": "AygTe8ELjOKQ"
      },
      "source": [
        "<a id=\"a_star_search\"></a>\n",
        "## a_star_search\n",
        "\n",
        "Description function.\n",
        "\n",
        "* **maze** List[List[str]]: the search area\n",
        "* **start** Tuple[int, int]: the starting location of the robot\n",
        "* **goal** Tuple[int, int]: the goal location in the search area\n",
        "* **moves** List[Tuple[int, int]]: the allowable moves in the search area\n",
        "* **heuristic_func** func: the specific heuristic function used to evaluate a location\n",
        "\n",
        "\n",
        "**returns** None (but prints out a view of the maze; see breadth_first_search function for details)."
      ]
    },
    {
      "cell_type": "code",
      "execution_count": null,
      "metadata": {
        "id": "9NkZxoaRjOKQ"
      },
      "outputs": [],
      "source": [
        "def a_star_search(maze, start, goal, MOVES, heuristic_func):\n",
        "    frontier = [start]\n",
        "    explored = []\n",
        "    path = {}\n",
        "    cost = {}\n",
        "    cost[start] = 0\n",
        "    while len(frontier) != 0:\n",
        "        node = frontier.pop(0)\n",
        "        explored.append(node)\n",
        "        if node == goal:\n",
        "            break\n",
        "        for child in get_neighbors(node, len(maze), len(maze[0])):\n",
        "            if child not in explored and child not in frontier and not is_obstacle(maze[child[0]][child[1]]):\n",
        "                frontier.append(child)\n",
        "                cost[child] = cost[node] + 1\n",
        "                path[child] = node\n",
        "                frontier.sort(key=lambda x: cost[x] + heuristic_func(x, goal))\n",
        "    switch_symbols(path)\n",
        "    for row in maze:\n",
        "        print(\"\".join(row))\n",
        "    return"
      ]
    },
    {
      "cell_type": "markdown",
      "source": [
        "##problem #3\n",
        "Program to compare performance of BFS and DNS for Maze2.txt\n",
        "\n"
      ],
      "metadata": {
        "id": "HYfszoM09eKt"
      }
    },
    {
      "cell_type": "code",
      "source": [],
      "metadata": {
        "id": "z3O8MhSZAjm4"
      },
      "execution_count": null,
      "outputs": []
    },
    {
      "cell_type": "code",
      "source": [
        "import time\n",
        "from collections import deque\n",
        "\n",
        "# Helper functions for reading the maze and defining the search algorithms (BFS and DFS)\n",
        "\n",
        "def read_maze(file_name):\n",
        "    with open(file_name, \"r\") as file:\n",
        "        return [list(line.strip()) for line in file]\n",
        "\n",
        "def is_obstacle(cell):\n",
        "    return cell == '%'\n",
        "\n",
        "def is_valid_move(maze, row, col):\n",
        "    return 0 <= row < len(maze) and 0 <= col < len(maze[0]) and not is_obstacle(maze[row][col])\n",
        "\n",
        "def get_neighbors(maze, state):\n",
        "    row, col = state\n",
        "    moves = [(1, 0), (-1, 0), (0, 1), (0, -1)]  # Possible moves: Down, Up, Right, Left\n",
        "    neighbors = []\n",
        "\n",
        "    for dr, dc in moves:\n",
        "        new_row, new_col = row + dr, col + dc\n",
        "        if is_valid_move(maze, new_row, new_col):\n",
        "            neighbors.append((new_row, new_col))\n",
        "\n",
        "    return neighbors\n",
        "\n",
        "# Breadth-First Search (BFS)\n",
        "def bfs_search(maze, start, goal):\n",
        "    queue = deque([(start, [])])\n",
        "    visited = set()\n",
        "\n",
        "    while queue:\n",
        "        state, path = queue.popleft()\n",
        "        if state == goal:\n",
        "            return path + [state]\n",
        "\n",
        "        visited.add(state)\n",
        "        for neighbor in get_neighbors(maze, state):\n",
        "            if neighbor not in visited:\n",
        "                queue.append((neighbor, path + [state]))\n",
        "\n",
        "    return None  # No path found\n",
        "\n",
        "# Depth-First Search (DFS)\n",
        "def dfs_search(maze, start, goal):\n",
        "    stack = [(start, [])]\n",
        "    visited = set()\n",
        "\n",
        "    while stack:\n",
        "        state, path = stack.pop()\n",
        "        if state == goal:\n",
        "            return path + [state]\n",
        "\n",
        "        visited.add(state)\n",
        "        for neighbor in get_neighbors(maze, state):\n",
        "            if neighbor not in visited:\n",
        "                stack.append((neighbor, path + [state]))\n",
        "\n",
        "    return None  # No path found\n",
        "\n",
        "# Main function to compare BFS and DFS performance\n",
        "def compare_search_strategies(maze, start, goal):\n",
        "    print(\"Comparing BFS and DFS for Maze2.txt\")\n",
        "\n",
        "    # Measure time and nodes expanded for BFS\n",
        "    bfs_start_time = time.time()\n",
        "    bfs_path = bfs_search(maze, start, goal)\n",
        "    bfs_time_elapsed = time.time() - bfs_start_time\n",
        "    bfs_nodes_expanded = len(set(node for path in bfs_path for node in path))\n",
        "\n",
        "    # Measure time and nodes expanded for DFS\n",
        "    dfs_start_time = time.time()\n",
        "    dfs_path = dfs_search(maze, start, goal)\n",
        "    dfs_time_elapsed = time.time() - dfs_start_time\n",
        "    dfs_nodes_expanded = len(set(node for path in dfs_path for node in path))\n",
        "\n",
        "    # Print results\n",
        "    print(f\"BFS Solution Path: {bfs_path}\")\n",
        "    print(f\"BFS Nodes Expanded: {bfs_nodes_expanded}\")\n",
        "    print(f\"BFS Time Elapsed: {bfs_time_elapsed:.6f} seconds\")\n",
        "\n",
        "    print(f\"DFS Solution Path: {dfs_path}\")\n",
        "    print(f\"DFS Nodes Expanded: {dfs_nodes_expanded}\")\n",
        "    print(f\"DFS Time Elapsed: {dfs_time_elapsed:.6f} seconds\")\n",
        "\n",
        "if __name__ == \"__main__\":\n",
        "    maze_file = \"Maze2.txt\"\n",
        "    maze = read_maze(maze_file)\n",
        "    start = (0, maze[0].index('S'))\n",
        "    goal = (len(maze) - 1, maze[-1].index('G'))\n",
        "\n",
        "    compare_search_strategies(maze, start, goal)\n"
      ],
      "metadata": {
        "colab": {
          "base_uri": "https://localhost:8080/",
          "height": 366
        },
        "id": "ILfoVkPj_vzL",
        "outputId": "68049709-1d94-412c-8312-edcef366fee6"
      },
      "execution_count": null,
      "outputs": [
        {
          "output_type": "error",
          "ename": "FileNotFoundError",
          "evalue": "ignored",
          "traceback": [
            "\u001b[0;31m---------------------------------------------------------------------------\u001b[0m",
            "\u001b[0;31mFileNotFoundError\u001b[0m                         Traceback (most recent call last)",
            "\u001b[0;32m<ipython-input-28-c9843fdcf899>\u001b[0m in \u001b[0;36m<cell line: 87>\u001b[0;34m()\u001b[0m\n\u001b[1;32m     87\u001b[0m \u001b[0;32mif\u001b[0m \u001b[0m__name__\u001b[0m \u001b[0;34m==\u001b[0m \u001b[0;34m\"__main__\"\u001b[0m\u001b[0;34m:\u001b[0m\u001b[0;34m\u001b[0m\u001b[0;34m\u001b[0m\u001b[0m\n\u001b[1;32m     88\u001b[0m     \u001b[0mmaze_file\u001b[0m \u001b[0;34m=\u001b[0m \u001b[0;34m\"Maze2.txt\"\u001b[0m\u001b[0;34m\u001b[0m\u001b[0;34m\u001b[0m\u001b[0m\n\u001b[0;32m---> 89\u001b[0;31m     \u001b[0mmaze\u001b[0m \u001b[0;34m=\u001b[0m \u001b[0mread_maze\u001b[0m\u001b[0;34m(\u001b[0m\u001b[0mmaze_file\u001b[0m\u001b[0;34m)\u001b[0m\u001b[0;34m\u001b[0m\u001b[0;34m\u001b[0m\u001b[0m\n\u001b[0m\u001b[1;32m     90\u001b[0m     \u001b[0mstart\u001b[0m \u001b[0;34m=\u001b[0m \u001b[0;34m(\u001b[0m\u001b[0;36m0\u001b[0m\u001b[0;34m,\u001b[0m \u001b[0mmaze\u001b[0m\u001b[0;34m[\u001b[0m\u001b[0;36m0\u001b[0m\u001b[0;34m]\u001b[0m\u001b[0;34m.\u001b[0m\u001b[0mindex\u001b[0m\u001b[0;34m(\u001b[0m\u001b[0;34m'S'\u001b[0m\u001b[0;34m)\u001b[0m\u001b[0;34m)\u001b[0m\u001b[0;34m\u001b[0m\u001b[0;34m\u001b[0m\u001b[0m\n\u001b[1;32m     91\u001b[0m     \u001b[0mgoal\u001b[0m \u001b[0;34m=\u001b[0m \u001b[0;34m(\u001b[0m\u001b[0mlen\u001b[0m\u001b[0;34m(\u001b[0m\u001b[0mmaze\u001b[0m\u001b[0;34m)\u001b[0m \u001b[0;34m-\u001b[0m \u001b[0;36m1\u001b[0m\u001b[0;34m,\u001b[0m \u001b[0mmaze\u001b[0m\u001b[0;34m[\u001b[0m\u001b[0;34m-\u001b[0m\u001b[0;36m1\u001b[0m\u001b[0;34m]\u001b[0m\u001b[0;34m.\u001b[0m\u001b[0mindex\u001b[0m\u001b[0;34m(\u001b[0m\u001b[0;34m'G'\u001b[0m\u001b[0;34m)\u001b[0m\u001b[0;34m)\u001b[0m\u001b[0;34m\u001b[0m\u001b[0;34m\u001b[0m\u001b[0m\n",
            "\u001b[0;32m<ipython-input-28-c9843fdcf899>\u001b[0m in \u001b[0;36mread_maze\u001b[0;34m(file_name)\u001b[0m\n\u001b[1;32m      5\u001b[0m \u001b[0;34m\u001b[0m\u001b[0m\n\u001b[1;32m      6\u001b[0m \u001b[0;32mdef\u001b[0m \u001b[0mread_maze\u001b[0m\u001b[0;34m(\u001b[0m\u001b[0mfile_name\u001b[0m\u001b[0;34m)\u001b[0m\u001b[0;34m:\u001b[0m\u001b[0;34m\u001b[0m\u001b[0;34m\u001b[0m\u001b[0m\n\u001b[0;32m----> 7\u001b[0;31m     \u001b[0;32mwith\u001b[0m \u001b[0mopen\u001b[0m\u001b[0;34m(\u001b[0m\u001b[0mfile_name\u001b[0m\u001b[0;34m,\u001b[0m \u001b[0;34m\"r\"\u001b[0m\u001b[0;34m)\u001b[0m \u001b[0;32mas\u001b[0m \u001b[0mfile\u001b[0m\u001b[0;34m:\u001b[0m\u001b[0;34m\u001b[0m\u001b[0;34m\u001b[0m\u001b[0m\n\u001b[0m\u001b[1;32m      8\u001b[0m         \u001b[0;32mreturn\u001b[0m \u001b[0;34m[\u001b[0m\u001b[0mlist\u001b[0m\u001b[0;34m(\u001b[0m\u001b[0mline\u001b[0m\u001b[0;34m.\u001b[0m\u001b[0mstrip\u001b[0m\u001b[0;34m(\u001b[0m\u001b[0;34m)\u001b[0m\u001b[0;34m)\u001b[0m \u001b[0;32mfor\u001b[0m \u001b[0mline\u001b[0m \u001b[0;32min\u001b[0m \u001b[0mfile\u001b[0m\u001b[0;34m]\u001b[0m\u001b[0;34m\u001b[0m\u001b[0;34m\u001b[0m\u001b[0m\n\u001b[1;32m      9\u001b[0m \u001b[0;34m\u001b[0m\u001b[0m\n",
            "\u001b[0;31mFileNotFoundError\u001b[0m: [Errno 2] No such file or directory: 'Maze2.txt'"
          ]
        }
      ]
    }
  ],
  "metadata": {
    "kernelspec": {
      "display_name": "Python 3",
      "language": "python",
      "name": "python3"
    },
    "language_info": {
      "codemirror_mode": {
        "name": "ipython",
        "version": 3
      },
      "file_extension": ".py",
      "mimetype": "text/x-python",
      "name": "python",
      "nbconvert_exporter": "python",
      "pygments_lexer": "ipython3",
      "version": "3.11.1"
    },
    "toc": {
      "colors": {
        "hover_highlight": "#DAA520",
        "navigate_num": "#000000",
        "navigate_text": "#333333",
        "running_highlight": "#FF0000",
        "selected_highlight": "#FFD700",
        "sidebar_border": "#EEEEEE",
        "wrapper_background": "#FFFFFF"
      },
      "moveMenuLeft": true,
      "nav_menu": {
        "height": "192px",
        "width": "252px"
      },
      "navigate_menu": true,
      "number_sections": true,
      "sideBar": true,
      "threshold": 4,
      "toc_cell": false,
      "toc_section_display": "block",
      "toc_window_display": false,
      "widenNotebook": false
    },
    "vscode": {
      "interpreter": {
        "hash": "7e77f9a6e6a044ee9ebc72fa267dcea3515eadcefc5b5152159266149606b6dd"
      }
    },
    "colab": {
      "provenance": [],
      "include_colab_link": true
    }
  },
  "nbformat": 4,
  "nbformat_minor": 0
}